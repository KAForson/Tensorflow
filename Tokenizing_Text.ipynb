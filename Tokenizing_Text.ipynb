{
  "nbformat": 4,
  "nbformat_minor": 0,
  "metadata": {
    "colab": {
      "provenance": [],
      "authorship_tag": "ABX9TyNka4+BRufv3RFugcLXp2Oz",
      "include_colab_link": true
    },
    "kernelspec": {
      "name": "python3",
      "display_name": "Python 3"
    },
    "language_info": {
      "name": "python"
    }
  },
  "cells": [
    {
      "cell_type": "markdown",
      "metadata": {
        "id": "view-in-github",
        "colab_type": "text"
      },
      "source": [
        "<a href=\"https://colab.research.google.com/github/KAForson/Tensorflow/blob/main/Tokenizing_Text.ipynb\" target=\"_parent\"><img src=\"https://colab.research.google.com/assets/colab-badge.svg\" alt=\"Open In Colab\"/></a>"
      ]
    },
    {
      "cell_type": "code",
      "execution_count": 1,
      "metadata": {
        "id": "8o0etwqMN5Mn"
      },
      "outputs": [],
      "source": [
        "import tensorflow as tf"
      ]
    },
    {
      "cell_type": "code",
      "source": [
        "#Import the Tokenizer\n",
        "from tensorflow.keras.preprocessing.text import Tokenizer"
      ],
      "metadata": {
        "id": "CPcK_mEJOCOq"
      },
      "execution_count": 2,
      "outputs": []
    },
    {
      "cell_type": "code",
      "source": [
        "sentences = [\n",
        "    'My favorite food is ice cream',\n",
        "    'do you like ice cream too?',\n",
        "]\n",
        "tokenizer = Tokenizer(num_words = 10)\n",
        "tokenizer.fit_on_texts(sentences)"
      ],
      "metadata": {
        "id": "g3alLrrnOEiE"
      },
      "execution_count": 3,
      "outputs": []
    },
    {
      "cell_type": "code",
      "source": [
        "# Word Index\n",
        "\n",
        "word_index = tokenizer.word_index\n",
        "print(word_index)"
      ],
      "metadata": {
        "colab": {
          "base_uri": "https://localhost:8080/"
        },
        "id": "s_vB4ij4OGuk",
        "outputId": "a2b6afdd-b06a-4c09-dcba-010bae672df3"
      },
      "execution_count": 4,
      "outputs": [
        {
          "output_type": "stream",
          "name": "stdout",
          "text": [
            "{'ice': 1, 'cream': 2, 'my': 3, 'favorite': 4, 'food': 5, 'is': 6, 'do': 7, 'you': 8, 'like': 9, 'too': 10}\n"
          ]
        }
      ]
    },
    {
      "cell_type": "code",
      "source": [
        "# Use text_to_sequences() to turn sentences into sequences\n",
        "\n",
        "sequences = tokenizer.texts_to_sequences(sentences)\n",
        "print(sequences)"
      ],
      "metadata": {
        "colab": {
          "base_uri": "https://localhost:8080/"
        },
        "id": "wygnAgiQOJGE",
        "outputId": "215c3297-6148-4953-db93-dca39077cd6f"
      },
      "execution_count": 5,
      "outputs": [
        {
          "output_type": "stream",
          "name": "stdout",
          "text": [
            "[[3, 4, 5, 6, 1, 2], [7, 8, 9, 1, 2]]\n"
          ]
        }
      ]
    },
    {
      "cell_type": "code",
      "source": [
        "#Out of vocabulary token\n",
        "\n",
        "sentences = [\n",
        "    'My favorite food is ice cream',\n",
        "    'do you like ice cream too?',\n",
        "]\n",
        "tokenizer = Tokenizer(num_words = 20,\n",
        "                     oov_token=\"<Out of Vocabulary>\")\n",
        "tokenizer.fit_on_texts(sentences)"
      ],
      "metadata": {
        "id": "0SWc1fK8OLLS"
      },
      "execution_count": 6,
      "outputs": []
    },
    {
      "cell_type": "code",
      "source": [
        "# Word Index\n",
        "\n",
        "word_index = tokenizer.word_index\n",
        "print(word_index)\n",
        "\n",
        "#Typically 1"
      ],
      "metadata": {
        "colab": {
          "base_uri": "https://localhost:8080/"
        },
        "id": "IBZBLDEcOOfs",
        "outputId": "553c1a1b-8c07-4d6a-eaaa-292f7ae9e947"
      },
      "execution_count": 7,
      "outputs": [
        {
          "output_type": "stream",
          "name": "stdout",
          "text": [
            "{'<Out of Vocabulary>': 1, 'ice': 2, 'cream': 3, 'my': 4, 'favorite': 5, 'food': 6, 'is': 7, 'do': 8, 'you': 9, 'like': 10, 'too': 11}\n"
          ]
        }
      ]
    },
    {
      "cell_type": "code",
      "source": [
        "# Sequence a new sentence\n",
        "\n",
        "new_sentence = [\n",
        "    'Your favorite food is strawberries and cream']\n",
        "\n",
        "sequences_new = tokenizer.texts_to_sequences(new_sentence)\n",
        "print(sequences_new)"
      ],
      "metadata": {
        "colab": {
          "base_uri": "https://localhost:8080/"
        },
        "id": "oXxRsV6qOQ4M",
        "outputId": "bed2bf8d-e606-4913-b439-de170e8a791d"
      },
      "execution_count": 9,
      "outputs": [
        {
          "output_type": "stream",
          "name": "stdout",
          "text": [
            "[[1, 5, 6, 7, 1, 1, 3]]\n"
          ]
        }
      ]
    },
    {
      "cell_type": "code",
      "source": [],
      "metadata": {
        "id": "ooWQcFqNOUF6"
      },
      "execution_count": null,
      "outputs": []
    }
  ]
}